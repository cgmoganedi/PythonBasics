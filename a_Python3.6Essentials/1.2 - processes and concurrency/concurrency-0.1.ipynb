{
 "cells": [
  {
   "cell_type": "code",
   "execution_count": null,
   "metadata": {},
   "outputs": [],
   "source": [
    "import threading\n",
    "\n",
    "def print_sum():\n",
    "    print('The sum of 1 and 2 is 3')\n",
    "my_thread = threading.Thread(target=print_sum)\n",
    "my_thread.start()\n"
   ]
  }
 ],
 "metadata": {
  "language": "python"
 },
 "nbformat": 4,
 "nbformat_minor": 2
}
